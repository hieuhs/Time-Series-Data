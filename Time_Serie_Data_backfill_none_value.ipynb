{
  "nbformat": 4,
  "nbformat_minor": 0,
  "metadata": {
    "colab": {
      "provenance": []
    },
    "kernelspec": {
      "name": "python3",
      "display_name": "Python 3"
    },
    "language_info": {
      "name": "python"
    }
  },
  "cells": [
    {
      "cell_type": "code",
      "execution_count": 2,
      "metadata": {
        "id": "d5f6CJ4PrGtK"
      },
      "outputs": [],
      "source": [
        "#linear interpolation (nội suy)\n",
        "def interpolate(x1, y1, x2, y2, x):\n",
        "  alpha = (x2 - x)/(x2 - x1)\n",
        "  y = alpha*y1 + (1 - alpha)*y2\n",
        "  return y"
      ]
    },
    {
      "cell_type": "code",
      "source": [
        "x1, y1 = 1,1\n",
        "x2, y2 = 3,3\n",
        "x = 2.9\n",
        "\n",
        "print(interpolate(x1, y1, x2, y2, x))"
      ],
      "metadata": {
        "colab": {
          "base_uri": "https://localhost:8080/"
        },
        "id": "Z8D5g1z6rh76",
        "outputId": "0528f77c-aa56-48de-85a7-b00b663e9208"
      },
      "execution_count": 6,
      "outputs": [
        {
          "output_type": "stream",
          "name": "stdout",
          "text": [
            "2.8999999999999995\n"
          ]
        }
      ]
    },
    {
      "cell_type": "code",
      "source": [
        "#design an algorith to fill missing data"
      ],
      "metadata": {
        "id": "TI5lvSk_rz2C"
      },
      "execution_count": 22,
      "outputs": []
    },
    {
      "cell_type": "code",
      "source": [
        "#find first missing value\n",
        "list = [2.0, 2.2, 3.5, None, 2.4, None]\n",
        "\n",
        "def find_first_none(data):\n",
        "  result = -1\n",
        "  for i, element in enumerate(data):\n",
        "    if element == None:\n",
        "      result = i\n",
        "      break\n",
        "  return result"
      ],
      "metadata": {
        "id": "eH3XrAD71bzY"
      },
      "execution_count": 43,
      "outputs": []
    },
    {
      "cell_type": "code",
      "source": [
        "find_first_none(list)"
      ],
      "metadata": {
        "colab": {
          "base_uri": "https://localhost:8080/"
        },
        "id": "g_uTuVPm4_9K",
        "outputId": "cf2b2988-0a60-4972-bc39-af00f39406a9"
      },
      "execution_count": 44,
      "outputs": [
        {
          "output_type": "execute_result",
          "data": {
            "text/plain": [
              "3"
            ]
          },
          "metadata": {},
          "execution_count": 44
        }
      ]
    },
    {
      "cell_type": "code",
      "source": [
        "#find first none missing value after missing value\n",
        "def find_end(data):\n",
        "  first_missing_value = find_first_none(data)\n",
        "  end = len(data) #default value\n",
        "  for i in range(first_missing_value + 1, len(data)):\n",
        "    if data[i] != None:\n",
        "      end = i\n",
        "      break\n",
        "  return end"
      ],
      "metadata": {
        "id": "Rj1X-U-0ytDl"
      },
      "execution_count": 50,
      "outputs": []
    },
    {
      "cell_type": "code",
      "source": [
        "#fill missing value by interpolate\n",
        "def interpolate_data(data):\n",
        "  for _ in range(len(data)):\n",
        "    none_position = find_first_none(data)\n",
        "    if none_position == -1:\n",
        "      break\n",
        "    begin = none_position - 1\n",
        "    end =  find_end(data)\n",
        "\n",
        "    if begin < 0:\n",
        "      data[none_position] = data[end]\n",
        "    elif end > len(data) - 1:\n",
        "      data[none_position] = data[begin]\n",
        "    else:\n",
        "      value = interpolate(begin, data[begin], end, data[end], none_position)\n",
        "      data[none_position] = value\n",
        "  return data"
      ],
      "metadata": {
        "id": "-OKlp-b60VzF"
      },
      "execution_count": 62,
      "outputs": []
    },
    {
      "cell_type": "code",
      "source": [
        "data = [1,3,5, None, None, 6]"
      ],
      "metadata": {
        "id": "-5cl_xi_29bA"
      },
      "execution_count": 65,
      "outputs": []
    },
    {
      "cell_type": "code",
      "source": [
        "interpolate_data(data)"
      ],
      "metadata": {
        "colab": {
          "base_uri": "https://localhost:8080/"
        },
        "id": "h_11X6SN6AQX",
        "outputId": "39cf258a-9857-4bf0-810c-0c3b9a2c2eaa"
      },
      "execution_count": 66,
      "outputs": [
        {
          "output_type": "execute_result",
          "data": {
            "text/plain": [
              "[1, 3, 5, 5.333333333333333, 5.666666666666666, 6]"
            ]
          },
          "metadata": {},
          "execution_count": 66
        }
      ]
    }
  ]
}